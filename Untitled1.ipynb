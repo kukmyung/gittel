{
 "cells": [
  {
   "cell_type": "code",
   "execution_count": null,
   "id": "df7c0eb3",
   "metadata": {},
   "outputs": [],
   "source": [
    "from tkinter import\n",
    "window = Tk()\n",
    "window.title(\"Gallery\")\n",
    "window.config(padx=20, pady=20)\n",
    "\n",
    "button1 = Buttom(window, text=\"이전\", font=(\"나눔바른펜\",15, \"bold\"),bg=\"lightblue\")\n",
    "button1.grid(column=0, row=0)\n",
    "button2 = Buttom(window, text=\"다음\", font=(\"나눔바른펜\",15, \"bold\"),bg=\"lightblue\")\n",
    "button1.grid(column=0, row=0)"
   ]
  }
 ],
 "metadata": {
  "kernelspec": {
   "display_name": "Python 3 (ipykernel)",
   "language": "python",
   "name": "python3"
  },
  "language_info": {
   "codemirror_mode": {
    "name": "ipython",
    "version": 3
   },
   "file_extension": ".py",
   "mimetype": "text/x-python",
   "name": "python",
   "nbconvert_exporter": "python",
   "pygments_lexer": "ipython3",
   "version": "3.8.10"
  }
 },
 "nbformat": 4,
 "nbformat_minor": 5
}
