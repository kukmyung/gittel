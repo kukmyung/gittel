{
 "cells": [
  {
   "cell_type": "code",
   "execution_count": 6,
   "id": "ba33cc4a",
   "metadata": {},
   "outputs": [
    {
     "ename": "SyntaxError",
     "evalue": "invalid syntax (Temp/ipykernel_8124/1780901556.py, line 35)",
     "output_type": "error",
     "traceback": [
      "\u001b[1;36m  File \u001b[1;32m\"C:\\Users\\PC021\\AppData\\Local\\Temp/ipykernel_8124/1780901556.py\"\u001b[1;36m, line \u001b[1;32m35\u001b[0m\n\u001b[1;33m    for i in \"C:\\Users\\PC021\\AppData\\Local\\Temp/ipykernel_8124/4044965148.py\", line 35\u001b[0m\n\u001b[1;37m                                                                                    ^\u001b[0m\n\u001b[1;31mSyntaxError\u001b[0m\u001b[1;31m:\u001b[0m invalid syntax\n"
     ]
    }
   ],
   "source": [
    "from tkinter import *\n",
    "\n",
    "def next_img():\n",
    "    global img_num\n",
    "    img_unm += 1\n",
    "    if img_num >= len(imges_list):\n",
    "        img_num = 0\n",
    "    print(imges_list)    \n",
    "    canvas.itemconfig(images_img, image=img_list[img_num])\n",
    "\n",
    "\n",
    "    \n",
    "\n",
    "window = Tk()\n",
    "\n",
    "window.title(\"GALLERY\")\n",
    "\n",
    "window.config(padx=10, pady=10)\n",
    "\n",
    "button1 = Button(window, text=\"◀\", font=(\"고딕\", 15,\n",
    "\n",
    "                      \"bold\"),bg=\"ivory\", commed=함수)\n",
    "\n",
    "button1.grid(column=0, row=0)\n",
    "\n",
    "button2 = Button(window, text=\"▶\", font=(\"고딕\",15,\n",
    "            \"bold\"),bg=\"ivory\", command=next_img)\n",
    "\n",
    "button2.grid(column=1, row=0)\n",
    "\n",
    "canvas = Canvas(window, height=670, width=670)\n",
    "canvas.grid(column=0, row=1,columnspan=2)\n",
    "\n",
    "img_list-[]\n",
    "for i in \"C:\\Users\\PC021\\AppData\\Local\\Temp/ipykernel_8124/4044965148.py\"\n",
    "    for i in range(8)\n",
    "img=PhotoImage(file=f\"images/img{i}.png\")\n",
    "img_list.append(img)\n",
    "\n",
    "canvas.create_image(330, 330, image=img_list[0])"
   ]
  },
  {
   "cell_type": "code",
   "execution_count": null,
   "id": "d5d191ad",
   "metadata": {},
   "outputs": [],
   "source": []
  },
  {
   "cell_type": "code",
   "execution_count": null,
   "id": "66001670",
   "metadata": {},
   "outputs": [],
   "source": []
  },
  {
   "cell_type": "code",
   "execution_count": null,
   "id": "259902a6",
   "metadata": {},
   "outputs": [],
   "source": []
  }
 ],
 "metadata": {
  "kernelspec": {
   "display_name": "Python 3 (ipykernel)",
   "language": "python",
   "name": "python3"
  },
  "language_info": {
   "codemirror_mode": {
    "name": "ipython",
    "version": 3
   },
   "file_extension": ".py",
   "mimetype": "text/x-python",
   "name": "python",
   "nbconvert_exporter": "python",
   "pygments_lexer": "ipython3",
   "version": "3.8.10"
  }
 },
 "nbformat": 4,
 "nbformat_minor": 5
}
